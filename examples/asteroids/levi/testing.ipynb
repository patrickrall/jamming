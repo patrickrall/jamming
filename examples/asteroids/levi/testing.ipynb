{
 "cells": [
  {
   "cell_type": "code",
   "execution_count": 11,
   "metadata": {},
   "outputs": [],
   "source": [
    "import PIL\n",
    "import pyglet\n",
    "from pyglet.window import *"
   ]
  },
  {
   "cell_type": "code",
   "execution_count": 12,
   "metadata": {},
   "outputs": [],
   "source": [
    "global a\n",
    "a = False\n",
    "\n",
    "width = 800\n",
    "height = 500"
   ]
  },
  {
   "cell_type": "code",
   "execution_count": 16,
   "metadata": {},
   "outputs": [],
   "source": [
    "temp_image = PIL.Image.open(\"resources/fractal.png\").resize((width,height))\n",
    "raw_image = temp_image.tobytes()\n",
    "\n",
    "img = pyglet.image.ImageData(width, height, 'RGBA', raw_image, pitch=-width * 4)"
   ]
  },
  {
   "cell_type": "code",
   "execution_count": 17,
   "metadata": {},
   "outputs": [],
   "source": [
    "game_window = Window(width, height)\n",
    "\n",
    "keys = key.KeyStateHandler()\n",
    "game_window.push_handlers(keys)"
   ]
  },
  {
   "cell_type": "code",
   "execution_count": 18,
   "metadata": {},
   "outputs": [
    {
     "name": "stdout",
     "output_type": "stream",
     "text": [
      "True\n",
      "False\n",
      "True\n",
      "False\n"
     ]
    }
   ],
   "source": [
    "txt = pyglet.text.Label(\"resources/Hello world\")\n",
    "sound = pyglet.resource.media(\"resources/tap.wav\", streaming=False)\n",
    "\n",
    "@game_window.event\n",
    "def on_draw():\n",
    "    global a\n",
    "    game_window.clear()\n",
    "    if a:\n",
    "        txt.draw()\n",
    "    else:\n",
    "        img.blit(0,0)\n",
    "\n",
    "    \n",
    "@game_window.event\n",
    "def on_mouse_press(x, y, button, modifiers):\n",
    "    global a\n",
    "    if button == mouse.LEFT:\n",
    "        b = not a\n",
    "        a = b\n",
    "        sound.play()\n",
    "        print(a)\n",
    "\n",
    "@game_window.event\n",
    "def on_key_press(symbol, modifiers):\n",
    "    if symbol == key.A:\n",
    "        print(\"the 'a' key is pressed\")\n",
    "        \n",
    "        \n",
    "pyglet.app.run()"
   ]
  },
  {
   "cell_type": "code",
   "execution_count": null,
   "metadata": {},
   "outputs": [],
   "source": []
  }
 ],
 "metadata": {
  "kernelspec": {
   "display_name": "Python 3",
   "language": "python",
   "name": "python3"
  },
  "language_info": {
   "codemirror_mode": {
    "name": "ipython",
    "version": 3
   },
   "file_extension": ".py",
   "mimetype": "text/x-python",
   "name": "python",
   "nbconvert_exporter": "python",
   "pygments_lexer": "ipython3",
   "version": "3.6.8"
  }
 },
 "nbformat": 4,
 "nbformat_minor": 2
}
