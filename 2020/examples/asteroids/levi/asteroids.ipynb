{
 "cells": [
  {
   "cell_type": "code",
   "execution_count": 6,
   "metadata": {},
   "outputs": [],
   "source": [
    "import pyglet\n",
    "from pyglet.window import *\n",
    "from pyglet.resource import *\n",
    "\n",
    "import random as r\n",
    "from math import *"
   ]
  },
  {
   "cell_type": "code",
   "execution_count": 2,
   "metadata": {},
   "outputs": [],
   "source": [
    "width = 900\n",
    "height = 600"
   ]
  },
  {
   "cell_type": "code",
   "execution_count": 10,
   "metadata": {},
   "outputs": [],
   "source": [
    "def center_image(img):\n",
    "    img.anchor_x = img.width/2\n",
    "    img.anchor_y = img.height/2\n",
    "    return img"
   ]
  },
  {
   "cell_type": "code",
   "execution_count": 11,
   "metadata": {},
   "outputs": [],
   "source": [
    "win = Window(900,600)"
   ]
  },
  {
   "cell_type": "code",
   "execution_count": 12,
   "metadata": {},
   "outputs": [],
   "source": [
    "main_batch = pyglet.graphics.Batch()\n",
    "\n",
    "player_img = center_image(image(\"resources/player.png\"))\n",
    "bullet_img = center_image(image(\"resources/bullet.png\"))\n",
    "asteroid_img = center_image(image(\"resources/asteroid.png\"))\n",
    "\n",
    "score_label = pyglet.text.Label(\"Score\", batch=main_batch)\n",
    "level_label = pyglet.text.Label(\"Level\", x=width/2, y=height, anchor_x=\"center\", anchor_y=\"top\", batch=main_batch)\n",
    "\n",
    "player_ship = pyglet.sprite.Sprite(img=player_img, x=width/2, y=0.4*height, batch=main_batch)\n",
    "player_ship.rotation = -90"
   ]
  },
  {
   "cell_type": "code",
   "execution_count": 13,
   "metadata": {},
   "outputs": [],
   "source": [
    "def distance_from(p1=(0,0), p2=(0,0)):\n",
    "    dx = p1[0] - p2[0]\n",
    "    dy = p1[1] - p2[1]\n",
    "    \n",
    "    return sqrt(dx**2 + dy**2)\n",
    "    \n",
    "\n",
    "def spawn_asteroids(num, player_position):\n",
    "    asteroids = []\n",
    "    \n",
    "    for i in range(num):\n",
    "        while True:\n",
    "            _x = r.randint(0, width)\n",
    "            _y = r.randint(0, height)\n",
    "            \n",
    "            if distance_from((_x, _y), player_position) >= 0.2:\n",
    "                break\n",
    "        \n",
    "        astroid = pyglet.sprite.Sprite(img=asteroid_img, x=_x, y=_y, batch=main_batch)\n",
    "        \n",
    "        astroid.rotation = r.randint(0, 360)\n",
    "        asteroids.append(astroid)\n",
    "    \n",
    "    return asteroids\n",
    "\n",
    "asteroids = spawn_asteroids(5, player_ship.position)"
   ]
  },
  {
   "cell_type": "code",
   "execution_count": 14,
   "metadata": {},
   "outputs": [],
   "source": [
    "@win.event\n",
    "def on_draw():\n",
    "    main_batch.draw()"
   ]
  },
  {
   "cell_type": "code",
   "execution_count": 15,
   "metadata": {},
   "outputs": [],
   "source": [
    "pyglet.app.run()"
   ]
  },
  {
   "cell_type": "code",
   "execution_count": null,
   "metadata": {},
   "outputs": [],
   "source": []
  }
 ],
 "metadata": {
  "kernelspec": {
   "display_name": "Python 3",
   "language": "python",
   "name": "python3"
  },
  "language_info": {
   "codemirror_mode": {
    "name": "ipython",
    "version": 3
   },
   "file_extension": ".py",
   "mimetype": "text/x-python",
   "name": "python",
   "nbconvert_exporter": "python",
   "pygments_lexer": "ipython3",
   "version": "3.6.8"
  }
 },
 "nbformat": 4,
 "nbformat_minor": 2
}
